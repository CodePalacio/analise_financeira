{
 "cells": [
  {
   "cell_type": "code",
   "execution_count": 2,
   "metadata": {},
   "outputs": [],
   "source": [
    "import numpy as pd\n",
    "import pandas as pd\n",
    "import yfinance as yf\n",
    "import matplotlib.pyplot as plt\n",
    "from datetime import datetime "
   ]
  },
  {
   "cell_type": "code",
   "execution_count": 3,
   "metadata": {},
   "outputs": [
    {
     "data": {
      "text/html": [
       "<div>\n",
       "<style scoped>\n",
       "    .dataframe tbody tr th:only-of-type {\n",
       "        vertical-align: middle;\n",
       "    }\n",
       "\n",
       "    .dataframe tbody tr th {\n",
       "        vertical-align: top;\n",
       "    }\n",
       "\n",
       "    .dataframe thead th {\n",
       "        text-align: right;\n",
       "    }\n",
       "</style>\n",
       "<table border=\"1\" class=\"dataframe\">\n",
       "  <thead>\n",
       "    <tr style=\"text-align: right;\">\n",
       "      <th></th>\n",
       "      <th>Open</th>\n",
       "      <th>High</th>\n",
       "      <th>Low</th>\n",
       "      <th>Close</th>\n",
       "      <th>Adj Close</th>\n",
       "      <th>Volume</th>\n",
       "    </tr>\n",
       "    <tr>\n",
       "      <th>Date</th>\n",
       "      <th></th>\n",
       "      <th></th>\n",
       "      <th></th>\n",
       "      <th></th>\n",
       "      <th></th>\n",
       "      <th></th>\n",
       "    </tr>\n",
       "  </thead>\n",
       "  <tbody>\n",
       "    <tr>\n",
       "      <th>2023-10-09</th>\n",
       "      <td>143.360001</td>\n",
       "      <td>143.970001</td>\n",
       "      <td>141.600006</td>\n",
       "      <td>143.360001</td>\n",
       "      <td>143.360001</td>\n",
       "      <td>5062200</td>\n",
       "    </tr>\n",
       "    <tr>\n",
       "      <th>2023-10-10</th>\n",
       "      <td>143.979996</td>\n",
       "      <td>145.220001</td>\n",
       "      <td>143.720001</td>\n",
       "      <td>144.779999</td>\n",
       "      <td>144.779999</td>\n",
       "      <td>5988900</td>\n",
       "    </tr>\n",
       "    <tr>\n",
       "      <th>2023-10-11</th>\n",
       "      <td>145.139999</td>\n",
       "      <td>145.559998</td>\n",
       "      <td>142.559998</td>\n",
       "      <td>143.000000</td>\n",
       "      <td>143.000000</td>\n",
       "      <td>5469100</td>\n",
       "    </tr>\n",
       "    <tr>\n",
       "      <th>2023-10-12</th>\n",
       "      <td>142.789993</td>\n",
       "      <td>143.929993</td>\n",
       "      <td>141.660004</td>\n",
       "      <td>143.320007</td>\n",
       "      <td>143.320007</td>\n",
       "      <td>5965600</td>\n",
       "    </tr>\n",
       "    <tr>\n",
       "      <th>2023-10-13</th>\n",
       "      <td>143.190002</td>\n",
       "      <td>145.029999</td>\n",
       "      <td>143.190002</td>\n",
       "      <td>144.690002</td>\n",
       "      <td>144.690002</td>\n",
       "      <td>7078900</td>\n",
       "    </tr>\n",
       "  </tbody>\n",
       "</table>\n",
       "</div>"
      ],
      "text/plain": [
       "                  Open        High         Low       Close   Adj Close  \\\n",
       "Date                                                                     \n",
       "2023-10-09  143.360001  143.970001  141.600006  143.360001  143.360001   \n",
       "2023-10-10  143.979996  145.220001  143.720001  144.779999  144.779999   \n",
       "2023-10-11  145.139999  145.559998  142.559998  143.000000  143.000000   \n",
       "2023-10-12  142.789993  143.929993  141.660004  143.320007  143.320007   \n",
       "2023-10-13  143.190002  145.029999  143.190002  144.690002  144.690002   \n",
       "\n",
       "             Volume  \n",
       "Date                 \n",
       "2023-10-09  5062200  \n",
       "2023-10-10  5988900  \n",
       "2023-10-11  5469100  \n",
       "2023-10-12  5965600  \n",
       "2023-10-13  7078900  "
      ]
     },
     "execution_count": 3,
     "metadata": {},
     "output_type": "execute_result"
    }
   ],
   "source": [
    "end_date = datetime.now().strftime(\"%Y-%m-%d\")\n",
    "data_pg = yf.download('PG', start='2000-1-1', end=end_date, progress= False)\n",
    "data_pg.tail()"
   ]
  },
  {
   "cell_type": "code",
   "execution_count": 5,
   "metadata": {},
   "outputs": [
    {
     "data": {
      "text/plain": [
       "Date\n",
       "2000-01-03           NaN\n",
       "2000-01-04     28.608187\n",
       "2000-01-05     28.057699\n",
       "2000-01-06     27.523916\n",
       "2000-01-07     28.791664\n",
       "                 ...    \n",
       "2023-10-09    144.089996\n",
       "2023-10-10    143.360001\n",
       "2023-10-11    144.779999\n",
       "2023-10-12    143.000000\n",
       "2023-10-13    143.320007\n",
       "Name: Adj Close, Length: 5984, dtype: float64"
      ]
     },
     "execution_count": 5,
     "metadata": {},
     "output_type": "execute_result"
    }
   ],
   "source": [
    "shift = data_pg['Adj Close'].shift(1)\n",
    "shift"
   ]
  },
  {
   "cell_type": "code",
   "execution_count": 8,
   "metadata": {},
   "outputs": [
    {
     "name": "stdout",
     "output_type": "stream",
     "text": [
      "     A   B\n",
      "0  NaN  10\n",
      "1  1.0  20\n",
      "2  2.0  30\n",
      "3  3.0  40\n",
      "4  4.0  50\n"
     ]
    }
   ],
   "source": [
    "df = pd.DataFrame({'A': [1, 2, 3, 4, 5],\n",
    "                   'B': [10, 20, 30, 40, 50]})\n",
    " \n",
    "# Deslocando a coluna 'A' por 2 posições\n",
    "df['A'] = df['A'].shift(1)\n",
    " \n",
    "# O DataFrame após a operação de deslocamento\n",
    "print(df)"
   ]
  },
  {
   "cell_type": "code",
   "execution_count": null,
   "metadata": {},
   "outputs": [],
   "source": []
  }
 ],
 "metadata": {
  "kernelspec": {
   "display_name": "Python 3",
   "language": "python",
   "name": "python3"
  },
  "language_info": {
   "codemirror_mode": {
    "name": "ipython",
    "version": 3
   },
   "file_extension": ".py",
   "mimetype": "text/x-python",
   "name": "python",
   "nbconvert_exporter": "python",
   "pygments_lexer": "ipython3",
   "version": "3.11.6"
  }
 },
 "nbformat": 4,
 "nbformat_minor": 2
}
